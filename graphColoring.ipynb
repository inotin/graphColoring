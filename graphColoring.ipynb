{
 "cells": [
  {
   "cell_type": "code",
   "execution_count": 123,
   "metadata": {},
   "outputs": [],
   "source": [
    "import networkx as nx\n",
    "\n",
    "class MyStack(object):\n",
    "    \n",
    "    def __init__ (self, type): # Creates an empty list\n",
    "        self.elemType = type\n",
    "        self.state = [] # Empty list \n",
    "    \n",
    "    def __str__ (self): # for print\n",
    "        return str(self.state) \n",
    "    \n",
    "    def empty(self):\n",
    "        return len(self.state) == 0\n",
    "    \n",
    "    def push(self, elem): # Adds an element to the top of a stack\n",
    "        assert type(elem) == self.elemType\n",
    "        self.state.append(elem)\n",
    "    \n",
    "    def pop(self): # Removes an element from the top of the stack\n",
    "        if self.empty():\n",
    "            raise ValueError(\"Requested top of an empty stack\")\n",
    "        else:\n",
    "            return self.state.pop()\n",
    "        \n",
    "    def top(self): # Returns the top of a nonempty stack \n",
    "        if self.empty():\n",
    "            raise ValueError(\"Requested top of an empty stack\") \n",
    "        else:\n",
    "            return self.state[-1]\n",
    "        \n"
   ]
  },
  {
   "cell_type": "code",
   "execution_count": 124,
   "metadata": {},
   "outputs": [],
   "source": [
    "def graphColoring(graph, colors):\n",
    "    \"\"\"\n",
    "    The function return list of node colors so that they aren’t the same color, \n",
    "    if they are adjacent to each other\n",
    "    \n",
    "    Input:\n",
    "    graph (list(list(bool))): input adjacency matrix\n",
    "    colors (list(str)): list of possible colors, e.g. ['r','g','b']\n",
    "    \n",
    "    Output\n",
    "    list(str): list of node colors\n",
    "    \"\"\"\n",
    "    \n",
    "    initialState = [None for i in range(len(graph))] \n",
    "    s = MyStack(list)\n",
    "    s.push(initialState)\n",
    "    while not s.empty():\n",
    "        currentState = s.pop()\n",
    "        currentNode = sum([i != None for i in currentState])\n",
    "        \n",
    "#         print(\"Current Stack: \",s)\n",
    "#         print(\"Current Node: \", currentNode, \" of \", len(graph))\n",
    "#         print(\"Current State: \",currentState\n",
    "#         input()\n",
    "        \n",
    "        if currentNode == len(graph):\n",
    "            print(\"Solution: \", currentState)\n",
    "            return currentState\n",
    "        else:\n",
    "            for color in colors:\n",
    "                feasible = True\n",
    "                for node in range(len(graph)):\n",
    "                    if graph[currentNode][node]==True and color == currentState[node]:\n",
    "                        feasible = False\n",
    "                        break\n",
    "                if feasible == True:\n",
    "                    currentState[currentNode] = color\n",
    "                    childState = currentState.copy() \n",
    "                    s.push(childState) \n",
    "                    #print(f\"Node {currentNode} is {color}\")       \n",
    "\n",
    "def edgesFromTable(graph):\n",
    "    \"\"\"\n",
    "    The function returns list of edges for a graph based on its adjacency matrix\n",
    "    \n",
    "    Input:\n",
    "    graph (list(list(bool))): input adjacency matrix\n",
    "    \n",
    "    Output:\n",
    "    list: list of edges\n",
    "    \"\"\"\n",
    "    edges = []\n",
    "    for i in range(len(graph)):\n",
    "        for j in range(len(graph[i])):\n",
    "            if graph[i][j] == True:\n",
    "                edges.append((i,j))\n",
    "    return edges              "
   ]
  },
  {
   "cell_type": "code",
   "execution_count": 125,
   "metadata": {},
   "outputs": [
    {
     "name": "stdout",
     "output_type": "stream",
     "text": [
      "Solution:  ['b', 'g', 'b', 'r', 'g', 'r']\n"
     ]
    },
    {
     "data": {
      "text/plain": [
       "['b', 'g', 'b', 'r', 'g', 'r']"
      ]
     },
     "execution_count": 125,
     "metadata": {},
     "output_type": "execute_result"
    }
   ],
   "source": [
    "graph = [[False, True, False, False, False, True ], \n",
    "         [True, False, True, False, False, True ], \n",
    "         [False, True, False, True, True, False ], \n",
    "         [False, False, True, False, True, False], \n",
    "         [False, False, True, True, False, True ], \n",
    "         [True, True, False, False, True, False]]\n",
    "colors = ['r', 'g', 'b'] \n",
    "\n",
    "graphColoring(graph, colors)\n"
   ]
  },
  {
   "cell_type": "code",
   "execution_count": 128,
   "metadata": {},
   "outputs": [],
   "source": [
    "def drawColouredGraph(adjacencyMatrix, nodeColors):\n",
    "    \"\"\"\n",
    "    The function draws a coloured graph based on its adjacency matrix and given node colors\n",
    "    \n",
    "    Input:\n",
    "    adjacencyMatrix (list(list(bool))): input adjacency matrix\n",
    "    nodeColors (list(str)): list of node colors, e.g. ['r','g','b']\n",
    "    \n",
    "    Output:\n",
    "    None\n",
    "    \"\"\"\n",
    "    myGraph = nx.Graph() \n",
    "    myGraph.add_edges_from(edgesFromTable(graph))\n",
    "    colors = [nodeColors[node] for node in myGraph.nodes]\n",
    "    \n",
    "    nx.draw(myGraph, with_labels=True, font_weight='bold', node_color = colors, font_color = 'white')"
   ]
  },
  {
   "cell_type": "code",
   "execution_count": 129,
   "metadata": {},
   "outputs": [
    {
     "name": "stdout",
     "output_type": "stream",
     "text": [
      "Solution:  ['b', 'g', 'b', 'r', 'g', 'r']\n"
     ]
    },
    {
     "data": {
      "image/png": "[encoded data removed]",
      "text/plain": [
       "<Figure size 432x288 with 1 Axes>"
      ]
     },
     "metadata": {},
     "output_type": "display_data"
    }
   ],
   "source": [
    "colorList = graphColoring(graph, colors)\n",
    "drawColouredGraph(graph, colorList)"
   ]
  }
 ],
 "metadata": {
  "kernelspec": {
   "display_name": "Python 3",
   "language": "python",
   "name": "python3"
  },
  "language_info": {
   "codemirror_mode": {
    "name": "ipython",
    "version": 3
   },
   "file_extension": ".py",
   "mimetype": "text/x-python",
   "name": "python",
   "nbconvert_exporter": "python",
   "pygments_lexer": "ipython3",
   "version": "3.7.6"
  }
 },
 "nbformat": 4,
 "nbformat_minor": 4
}
